{
 "cells": [
  {
   "cell_type": "markdown",
   "metadata": {
    "id": "gl1He2PTx7o_"
   },
   "source": [
    "# Byte-Pair Encoding tokenization\n",
    "\n",
    "---\n",
    "This notebook is a modified version of the Hugging Face tutorial course here (provided under an Apache License 2.0):\n",
    "- Course: https://huggingface.co/learn/nlp-course/en/chapter6/5\n",
    "- Notebook: https://colab.research.google.com/github/huggingface/notebooks/blob/master/course/en/chapter6/section5.ipynb\n",
    "---\n",
    "\n",
    "Byte-Pair Encoding (BPE) was initially developed as an algorithm to compress texts, and then used by OpenAI for tokenization when pretraining the GPT model. It’s used by a lot of Transformer models, including GPT, GPT-2, RoBERTa, BART, and DeBERTa."
   ]
  },
  {
   "cell_type": "markdown",
   "metadata": {
    "id": "Zt5xulrBx7pA"
   },
   "source": [
    "Install the Transformers, Datasets, and Evaluate libraries to run this notebook."
   ]
  },
  {
   "cell_type": "code",
   "execution_count": null,
   "metadata": {
    "id": "39Y1j3dLx7pB"
   },
   "outputs": [],
   "source": [
    "!pip install datasets evaluate transformers[sentencepiece]"
   ]
  },
  {
   "cell_type": "markdown",
   "metadata": {},
   "source": [
    "## Training algorithm\n",
    "BPE training starts by computing the unique set of words used in the corpus (after the normalization\n",
    "and pre-tokenization steps are completed), then building the vocabulary by taking all the symbols \n",
    "used to write those words. As a very simple example, let’s say our corpus uses these five words:\n",
    "\n",
    "```python\n",
    "\"hug\", \"pug\", \"pun\", \"bun\", \"hugs\"\n",
    "```\n",
    "\n",
    "The base vocabulary will then be `[\"b\", \"g\", \"h\", \"n\", \"p\", \"s\", \"u\"]`. For real-world cases, that base \n",
    "vocabulary will contain all the ASCII characters, at the very least, and probably some Unicode characters\n",
    "as well. If an example you are tokenizing uses a character that is not in the training corpus, that \n",
    "character will be converted to the unknown token. That’s one reason why lots of NLP models are very \n",
    "bad at analyzing content with emojis, for instance.\n",
    "\n",
    "After getting this base vocabulary, we add new tokens until the desired vocabulary size is reached by \n",
    "learning merges, which are rules to merge two elements of the existing vocabulary together into a new \n",
    "one. So, at the beginning these merges will create tokens with two characters, and then, as training \n",
    "progresses, longer subwords.\n",
    "\n",
    "At any step during the tokenizer training, the BPE algorithm will search for the most frequent pair of\n",
    "existing tokens (by “pair,” here we mean two consecutive tokens in a word). That most frequent pair is\n",
    "the one that will be merged, and we rinse and repeat for the next step.\n",
    "\n",
    "Going back to our previous example, let’s assume the words had the following frequencies:\n",
    "\n",
    "```python\n",
    "(\"hug\", 10), (\"pug\", 5), (\"pun\", 12), (\"bun\", 4), (\"hugs\", 5)\n",
    "```\n",
    "\n",
    "meaning `\"hug\"` was present 10 times in the corpus, `\"pug\"` 5 times, \"pun\" 12 times, `\"bun\"` 4 times, and \n",
    "`\"hugs\"` 5 times. We start the training by splitting each word into characters (the ones that form our \n",
    "initial vocabulary) so we can see each word as a list of tokens:\n",
    "\n",
    "```python\n",
    "(\"h\" \"u\" \"g\", 10), (\"p\" \"u\" \"g\", 5), (\"p\" \"u\" \"n\", 12), (\"b\" \"u\" \"n\", 4), (\"h\" \"u\" \"g\" \"s\", 5)\n",
    "```\n",
    "\n",
    "Then we look at pairs. The pair `(\"h\", \"u\")` is present in the words `\"hug\"` and `\"hugs\"`, so 15 times total \n",
    "in the corpus. It’s not the most frequent pair, though: that honor belongs to `(\"u\", \"g\")`, which is\n",
    "present in `\"hug\", \"pug\", and \"hugs\"`, for a grand total of 20 times in the vocabulary.\n",
    "\n",
    "Thus, the first merge rule learned by the tokenizer is `(\"u\", \"g\") -> \"ug\"`, which means that `\"ug\"` will be\n",
    "added to the vocabulary, and the pair should be merged in all the words of the corpus. At the end of this\n",
    "stage, the vocabulary and corpus look like this:\n",
    "\n",
    "\n",
    "```python\n",
    "Vocabulary: [\"b\", \"g\", \"h\", \"n\", \"p\", \"s\", \"u\", \"ug\"]\n",
    "Corpus: (\"h\" \"ug\", 10), (\"p\" \"ug\", 5), (\"p\" \"u\" \"n\", 12), (\"b\" \"u\" \"n\", 4), (\"h\" \"ug\" \"s\", 5)\n",
    "```\n",
    "\n",
    "Now we have some pairs that result in a token longer than two characters: the pair `(\"h\", \"ug\")`, \n",
    "for instance (present 15 times in the corpus). The most frequent pair at this stage is `(\"u\", \"n\")`, \n",
    "however, present 16 times in the corpus, so the second merge rule learned is `(\"u\", \"n\") -> \"un\"`. \n",
    "Adding that to the vocabulary and merging all existing occurrences leads us to:\n",
    "\n",
    "```python\n",
    "Vocabulary: [\"b\", \"g\", \"h\", \"n\", \"p\", \"s\", \"u\", \"ug\", \"un\"]\n",
    "Corpus: (\"h\" \"ug\", 10), (\"p\" \"ug\", 5), (\"p\" \"un\", 12), (\"b\" \"un\", 4), (\"h\" \"ug\" \"s\", 5)\n",
    "```\n",
    "\n",
    "Now the most frequent pair is `(\"h\", \"ug\")`, so we learn the merge rule `(\"h\", \"ug\") -> \"hug\"`, \n",
    "which gives us our first three-letter token. After the merge, the corpus looks like this:\n",
    "\n",
    "```python\n",
    "Vocabulary: [\"b\", \"g\", \"h\", \"n\", \"p\", \"s\", \"u\", \"ug\", \"un\", \"hug\"]\n",
    "Corpus: (\"hug\", 10), (\"p\" \"ug\", 5), (\"p\" \"un\", 12), (\"b\" \"un\", 4), (\"hug\" \"s\", 5)\n",
    "```\n",
    "\n",
    "And we continue like this until we reach the desired vocabulary size.\n",
    "\n",
    "<div style=\"background-color: #ccffcc; padding: 10px; border-radius: 5px;\">\n",
    "✏️ <b>Exercise</b>: Now your turn! What do you think the next merge rule will be?\n",
    "</div>"
   ]
  },
  {
   "cell_type": "markdown",
   "metadata": {},
   "source": [
    "## Tokenization algorithm\n",
    "\n",
    "Tokenization follows the training process closely, in the sense that new inputs are tokenized by applying the following steps:\n",
    "\n",
    "Normalization\n",
    "Pre-tokenization\n",
    "Splitting the words into individual characters\n",
    "Applying the merge rules learned in order on those splits\n",
    "Let’s take the example we used during training, with the three merge rules learned:\n",
    "\n",
    "```python\n",
    "(\"u\", \"g\") -> \"ug\"\n",
    "(\"u\", \"n\") -> \"un\"\n",
    "(\"h\", \"ug\") -> \"hug\"\n",
    "```\n",
    "\n",
    "The word \"bug\" will be tokenized as `[\"b\", \"ug\"]`. \"mug\", however, will be tokenized as `[\"[UNK]\", \"ug\"]` since the letter `\"m\"` was not in the base vocabulary. Likewise, the word `\"thug\"` will be tokenized as `[\"[UNK]\", \"hug\"]`: the letter `\"t\"` is not in the base vocabulary, and applying the merge rules results first in `\"u\"` and `\"g\"` being merged and then `\"h\"` and `\"ug\"` being merged.\n",
    "\n",
    "\n",
    "<div style=\"background-color: #ccffcc; padding: 10px; border-radius: 5px;\">\n",
    "✏️ <b>Exercise</b>: Now your turn! How do you think the word \"unhug\" will be tokenized?\n",
    "</div>"
   ]
  },
  {
   "cell_type": "markdown",
   "metadata": {},
   "source": [
    "# Implementing BPE\n",
    "\n",
    "Now let’s take a look at an implementation of the BPE algorithm. This won’t be an optimized \n",
    "version you can actually use on a big corpus; we just want to show you the code so you can \n",
    "understand the algorithm a little bit better.\n",
    "\n",
    "### First we need a corpus, so let’s create a simple one with a few sentences:"
   ]
  },
  {
   "cell_type": "code",
   "execution_count": null,
   "metadata": {
    "id": "wyV5hGCTx7pB"
   },
   "outputs": [],
   "source": [
    "corpus = [\n",
    "    \"This is the Hugging Face Course.\",\n",
    "    \"This chapter is about tokenization.\",\n",
    "    \"This section shows several tokenizer algorithms.\",\n",
    "    \"Hopefully, you will be able to understand how they are trained and generate tokens.\",\n",
    "]"
   ]
  },
  {
   "cell_type": "markdown",
   "metadata": {},
   "source": [
    "### Next, we need to pre-tokenize that corpus into words. \n",
    "\n",
    "Since we are replicating a BPE tokenizer (like GPT-2), we will use the gpt2 tokenizer for the pre-tokenization:"
   ]
  },
  {
   "cell_type": "code",
   "execution_count": null,
   "metadata": {
    "id": "cOGLqLbix7pC"
   },
   "outputs": [],
   "source": [
    "from transformers import AutoTokenizer\n",
    "\n",
    "tokenizer = AutoTokenizer.from_pretrained(\"gpt2\")"
   ]
  },
  {
   "cell_type": "markdown",
   "metadata": {},
   "source": [
    "### Then we compute the frequencies of each word in the corpus as we do the pre-tokenization:"
   ]
  },
  {
   "cell_type": "code",
   "execution_count": null,
   "metadata": {
    "id": "0AeS3_KSx7pC",
    "outputId": "6f0c88f0-890e-41f5-ebc9-ceaf0a95314f"
   },
   "outputs": [
    {
     "data": {
      "text/plain": [
       "defaultdict(int, {'This': 3, 'Ġis': 2, 'Ġthe': 1, 'ĠHugging': 1, 'ĠFace': 1, 'ĠCourse': 1, '.': 4, 'Ġchapter': 1,\n",
       "    'Ġabout': 1, 'Ġtokenization': 1, 'Ġsection': 1, 'Ġshows': 1, 'Ġseveral': 1, 'Ġtokenizer': 1, 'Ġalgorithms': 1,\n",
       "    'Hopefully': 1, ',': 1, 'Ġyou': 1, 'Ġwill': 1, 'Ġbe': 1, 'Ġable': 1, 'Ġto': 1, 'Ġunderstand': 1, 'Ġhow': 1,\n",
       "    'Ġthey': 1, 'Ġare': 1, 'Ġtrained': 1, 'Ġand': 1, 'Ġgenerate': 1, 'Ġtokens': 1})"
      ]
     },
     "execution_count": null,
     "metadata": {},
     "output_type": "execute_result"
    }
   ],
   "source": [
    "from collections import defaultdict\n",
    "\n",
    "word_freqs = defaultdict(int)\n",
    "\n",
    "for text in corpus:\n",
    "    words_with_offsets = tokenizer.backend_tokenizer.pre_tokenizer.pre_tokenize_str(text)\n",
    "    new_words = [word for word, offset in words_with_offsets]\n",
    "    for word in new_words:\n",
    "        word_freqs[word] += 1\n",
    "\n",
    "print(word_freqs)"
   ]
  },
  {
   "cell_type": "markdown",
   "metadata": {},
   "source": [
    "### The next step is to compute the base vocabulary, formed by all the characters used in the corpus:"
   ]
  },
  {
   "cell_type": "code",
   "execution_count": null,
   "metadata": {
    "id": "nE0vFCfzx7pD",
    "outputId": "9a832a45-b440-4b98-99a3-b1a5174d7a1f"
   },
   "outputs": [
    {
     "data": {
      "text/plain": [
       "[ ',', '.', 'C', 'F', 'H', 'T', 'a', 'b', 'c', 'd', 'e', 'f', 'g', 'h', 'i', 'k', 'l', 'm', 'n', 'o', 'p', 'r', 's',\n",
       "  't', 'u', 'v', 'w', 'y', 'z', 'Ġ']"
      ]
     },
     "execution_count": null,
     "metadata": {},
     "output_type": "execute_result"
    }
   ],
   "source": [
    "alphabet = []\n",
    "\n",
    "for word in word_freqs.keys():\n",
    "    for letter in word:\n",
    "        if letter not in alphabet:\n",
    "            alphabet.append(letter)\n",
    "alphabet.sort()\n",
    "\n",
    "print(alphabet)"
   ]
  },
  {
   "cell_type": "markdown",
   "metadata": {},
   "source": [
    "#### We also add the special tokens used by the model at the beginning of that vocabulary. In the case of GPT-2, the only special token is `\"<|endoftext|>\"`:"
   ]
  },
  {
   "cell_type": "code",
   "execution_count": null,
   "metadata": {
    "id": "BQp6LFR8x7pE"
   },
   "outputs": [],
   "source": [
    "vocab = [\"<|endoftext|>\"] + alphabet.copy()"
   ]
  },
  {
   "cell_type": "markdown",
   "metadata": {},
   "source": [
    "### We now need to split each word into individual characters, to be able to start training:"
   ]
  },
  {
   "cell_type": "code",
   "execution_count": null,
   "metadata": {
    "id": "aAaFFEBrx7pE"
   },
   "outputs": [],
   "source": [
    "splits = {word: [c for c in word] for word in word_freqs.keys()}"
   ]
  },
  {
   "cell_type": "markdown",
   "metadata": {},
   "source": [
    "### Now that we are ready for training, let’s write a function that computes the frequency of each pair. We’ll need to use this at each step of the training:"
   ]
  },
  {
   "cell_type": "code",
   "execution_count": null,
   "metadata": {
    "id": "wrIe6F_9x7pF"
   },
   "outputs": [],
   "source": [
    "def compute_pair_freqs(splits):\n",
    "    # Default dicts start at 0 for an integer\n",
    "    pair_freqs = defaultdict(int)\n",
    "    for word, freq in word_freqs.items():\n",
    "        # Get the split of characters for the current word\n",
    "        split = splits[word]\n",
    "       \n",
    "        # Case where there are no pairs\n",
    "        if len(split) == 1:\n",
    "            continue\n",
    "            \n",
    "        # Loop over each character pair and count their occurences\n",
    "        for i in range(len(split) - 1):\n",
    "            # Construct a pair tuple to have a unique hash\n",
    "            pair = (split[i], split[i + 1])\n",
    "            # Add the number of times this pair occurs in the entire corpus\n",
    "            pair_freqs[pair] += freq\n",
    "    return pair_freqs"
   ]
  },
  {
   "cell_type": "markdown",
   "metadata": {},
   "source": [
    "#### Let’s have a look at a part of this dictionary after the initial splits:"
   ]
  },
  {
   "cell_type": "code",
   "execution_count": null,
   "metadata": {
    "id": "RfeXC4PZx7pF",
    "outputId": "32f11df0-6f06-4d32-81d4-989dab8c2abc"
   },
   "outputs": [
    {
     "data": {
      "text/plain": [
       "('T', 'h'): 3\n",
       "('h', 'i'): 3\n",
       "('i', 's'): 5\n",
       "('Ġ', 'i'): 2\n",
       "('Ġ', 't'): 7\n",
       "('t', 'h'): 3"
      ]
     },
     "execution_count": null,
     "metadata": {},
     "output_type": "execute_result"
    }
   ],
   "source": [
    "pair_freqs = compute_pair_freqs(splits)\n",
    "\n",
    "# Print out some pairs\n",
    "for i, key in enumerate(pair_freqs.keys()):\n",
    "    print(f\"{key}: {pair_freqs[key]}\")\n",
    "    if i >= 5:\n",
    "        break"
   ]
  },
  {
   "cell_type": "markdown",
   "metadata": {},
   "source": [
    "### Now, finding the most frequent pair only takes a quick loop:"
   ]
  },
  {
   "cell_type": "code",
   "execution_count": null,
   "metadata": {
    "id": "HOONt5Hhx7pF",
    "outputId": "8175d037-3ed1-41c9-e330-5b1d31c1e9ce"
   },
   "outputs": [
    {
     "data": {
      "text/plain": [
       "('Ġ', 't') 7"
      ]
     },
     "execution_count": null,
     "metadata": {},
     "output_type": "execute_result"
    }
   ],
   "source": [
    "best_pair = \"\"\n",
    "max_freq = None\n",
    "\n",
    "for pair, freq in pair_freqs.items():\n",
    "    if max_freq is None or max_freq < freq:\n",
    "        best_pair = pair\n",
    "        max_freq = freq\n",
    "\n",
    "print(best_pair, max_freq)"
   ]
  },
  {
   "cell_type": "markdown",
   "metadata": {},
   "source": [
    "### So the first merge to learn is `('Ġ', 't') -> 'Ġt'`, and we add `'Ġt'` to the vocabulary:"
   ]
  },
  {
   "cell_type": "code",
   "execution_count": null,
   "metadata": {
    "id": "g9dBfHAEx7pG"
   },
   "outputs": [],
   "source": [
    "merges = {(\"Ġ\", \"t\"): \"Ġt\"}\n",
    "vocab.append(\"Ġt\")"
   ]
  },
  {
   "cell_type": "markdown",
   "metadata": {},
   "source": [
    "### To continue, we need to apply that merge in our splits dictionary. Let’s write another function for this:"
   ]
  },
  {
   "cell_type": "code",
   "execution_count": null,
   "metadata": {
    "id": "GhqY8TChx7pG"
   },
   "outputs": [],
   "source": [
    "def merge_pair(a, b, splits):\n",
    "    for word in word_freqs:\n",
    "        # Get the current split\n",
    "        split = splits[word]\n",
    "        \n",
    "        # Case where there are no pairs\n",
    "        if len(split) == 1:\n",
    "            continue\n",
    "\n",
    "        # Loop over the character pairs of the word\n",
    "        i = 0\n",
    "        while i < len(split) - 1:\n",
    "            # Check if the current pair is equal to the input pair (a, b)\n",
    "            if split[i] == a and split[i + 1] == b:\n",
    "                # If it is, then reassign the split to be the original\n",
    "                # list of characters with the (a, b) character pair \n",
    "                # concatenated as a single character.\n",
    "                # Example:\n",
    "                #  Inputs: a, b = \"a\", \"t\" \n",
    "                #  Before: split = [\"c\", \"a\", \"t\"]\n",
    "                #  After: split = [\"c\"] + [\"at\"] + [] = [\"c\", \"at\"] \n",
    "                split = split[:i] + [a + b] + split[i + 2 :]\n",
    "            else:\n",
    "                # Advance the index, notice that we don't need to advance\n",
    "                # the index in the previous case because the size of split\n",
    "                # list gets shrunk by 1.\n",
    "                i += 1\n",
    "\n",
    "        # Finally, update the split for the next iteration of BPE training\n",
    "        splits[word] = split\n",
    "    return splits"
   ]
  },
  {
   "cell_type": "markdown",
   "metadata": {},
   "source": [
    "#### And we can have a look at the result of the first merge:"
   ]
  },
  {
   "cell_type": "code",
   "execution_count": null,
   "metadata": {
    "id": "rLqeeaaWx7pG",
    "outputId": "b654ae04-76ae-41f6-8759-e0b65588b78b"
   },
   "outputs": [
    {
     "data": {
      "text/plain": [
       "['Ġt', 'r', 'a', 'i', 'n', 'e', 'd']"
      ]
     },
     "execution_count": null,
     "metadata": {},
     "output_type": "execute_result"
    }
   ],
   "source": [
    "splits = merge_pair(\"Ġ\", \"t\", splits)\n",
    "print(splits[\"Ġtrained\"])\n",
    "# We see the first item has been merged"
   ]
  },
  {
   "cell_type": "markdown",
   "metadata": {},
   "source": [
    "### Now we have everything we need to loop until we have learned all the merges we want. Let’s aim for a vocab size of 50:"
   ]
  },
  {
   "cell_type": "code",
   "execution_count": null,
   "metadata": {
    "id": "fqxRH0X3x7pH"
   },
   "outputs": [],
   "source": [
    "vocab_size = 50\n",
    "\n",
    "while len(vocab) < vocab_size:\n",
    "    # Compute the pair frequencies of the new splits\n",
    "    pair_freqs = compute_pair_freqs(splits)\n",
    "\n",
    "    # Get the pair that occured the most \n",
    "    best_pair = \"\"\n",
    "    max_freq = None\n",
    "    for pair, freq in pair_freqs.items():\n",
    "        if max_freq is None or max_freq < freq:\n",
    "            best_pair = pair\n",
    "            max_freq = freq\n",
    "\n",
    "    # Merge each of the splits by concatenating all occurences of the best pair\n",
    "    splits = merge_pair(*best_pair, splits)\n",
    "    # Collect the merges to use during tokenization\n",
    "    merges[best_pair] = best_pair[0] + best_pair[1]\n",
    "    # Append the current best pair to the tokenizer vocabulary\n",
    "    vocab.append(best_pair[0] + best_pair[1])"
   ]
  },
  {
   "cell_type": "markdown",
   "metadata": {},
   "source": [
    "#### As a result, we’ve learned 19 merge rules (the initial vocabulary had a size of 31 — 30 characters in the alphabet, plus the special token):"
   ]
  },
  {
   "cell_type": "code",
   "execution_count": null,
   "metadata": {
    "id": "P_ZzmiX8x7pH",
    "outputId": "d5d9e542-5541-4690-ede0-9168d4a381fb"
   },
   "outputs": [
    {
     "data": {
      "text/plain": [
       "{('Ġ', 't'): 'Ġt', ('i', 's'): 'is', ('e', 'r'): 'er', ('Ġ', 'a'): 'Ġa', ('Ġt', 'o'): 'Ġto', ('e', 'n'): 'en',\n",
       " ('T', 'h'): 'Th', ('Th', 'is'): 'This', ('o', 'u'): 'ou', ('s', 'e'): 'se', ('Ġto', 'k'): 'Ġtok',\n",
       " ('Ġtok', 'en'): 'Ġtoken', ('n', 'd'): 'nd', ('Ġ', 'is'): 'Ġis', ('Ġt', 'h'): 'Ġth', ('Ġth', 'e'): 'Ġthe',\n",
       " ('i', 'n'): 'in', ('Ġa', 'b'): 'Ġab', ('Ġtoken', 'i'): 'Ġtokeni'}"
      ]
     },
     "execution_count": null,
     "metadata": {},
     "output_type": "execute_result"
    }
   ],
   "source": [
    "print(merges)"
   ]
  },
  {
   "cell_type": "markdown",
   "metadata": {},
   "source": [
    "#### And the vocabulary is composed of the special token, the initial alphabet, and all the results of the merges:"
   ]
  },
  {
   "cell_type": "code",
   "execution_count": null,
   "metadata": {
    "id": "f4Ckm4d3x7pH",
    "outputId": "9e66d90d-0936-412e-f690-fcc6c89823fc"
   },
   "outputs": [
    {
     "data": {
      "text/plain": [
       "['<|endoftext|>', ',', '.', 'C', 'F', 'H', 'T', 'a', 'b', 'c', 'd', 'e', 'f', 'g', 'h', 'i', 'k', 'l', 'm', 'n', 'o',\n",
       " 'p', 'r', 's', 't', 'u', 'v', 'w', 'y', 'z', 'Ġ', 'Ġt', 'is', 'er', 'Ġa', 'Ġto', 'en', 'Th', 'This', 'ou', 'se',\n",
       " 'Ġtok', 'Ġtoken', 'nd', 'Ġis', 'Ġth', 'Ġthe', 'in', 'Ġab', 'Ġtokeni']"
      ]
     },
     "execution_count": null,
     "metadata": {},
     "output_type": "execute_result"
    }
   ],
   "source": [
    "print(vocab)"
   ]
  },
  {
   "cell_type": "markdown",
   "metadata": {},
   "source": [
    "💡 **Note**: Using train_new_from_iterator() on the same corpus won’t result in the exact same vocabulary. This is because when there is a choice of the most frequent pair, we selected the first one encountered, while the 🤗 Tokenizers library selects the first one based on its inner IDs."
   ]
  },
  {
   "cell_type": "markdown",
   "metadata": {},
   "source": [
    "### To tokenize a new text, we pre-tokenize it, split it, then apply all the merge rules learned:"
   ]
  },
  {
   "cell_type": "code",
   "execution_count": null,
   "metadata": {
    "id": "T3VngFf1x7pH"
   },
   "outputs": [],
   "source": [
    "def tokenize(text):\n",
    "    # Pre tokenize the text (split into words)\n",
    "    pre_tokenize_result = tokenizer._tokenizer.pre_tokenizer.pre_tokenize_str(text)\n",
    "    \n",
    "    # Collect each word from the pre tokenized result\n",
    "    pre_tokenized_text = [word for word, offset in pre_tokenize_result]\n",
    "    \n",
    "    # Split each word into it's characters\n",
    "    splits = [[l for l in word] for word in pre_tokenized_text]\n",
    "    \n",
    "    # Consider each merged pair that was produced from training in the \n",
    "    # order that it was generated. \n",
    "    for pair, merge in merges.items():\n",
    "        # For each character split, apply the merge rule to concatenate\n",
    "        # the given set of characters\n",
    "        for idx, split in enumerate(splits):\n",
    "            i = 0\n",
    "            while i < len(split) - 1:\n",
    "                # Merge the split characters if they match the current merge rule\n",
    "                if split[i] == pair[0] and split[i + 1] == pair[1]:\n",
    "                    split = split[:i] + [merge] + split[i + 2 :]\n",
    "                else:\n",
    "                    # Update the index only when the split list stays the same size\n",
    "                    i += 1\n",
    "            # Update the current split\n",
    "            splits[idx] = split\n",
    "\n",
    "    # Return the tokenized text, or an empty list if splits is empty\n",
    "    return sum(splits, [])"
   ]
  },
  {
   "cell_type": "markdown",
   "metadata": {},
   "source": [
    "#### We can try this on any text composed of characters in the alphabet:"
   ]
  },
  {
   "cell_type": "code",
   "execution_count": null,
   "metadata": {
    "id": "-UaqROFZx7pH",
    "outputId": "74bb1c30-bc56-48ef-a4f9-457ed8ddd75f"
   },
   "outputs": [
    {
     "data": {
      "text/plain": [
       "['This', 'Ġis', 'Ġ', 'n', 'o', 't', 'Ġa', 'Ġtoken', '.']"
      ]
     },
     "execution_count": null,
     "metadata": {},
     "output_type": "execute_result"
    }
   ],
   "source": [
    "tokenize(\"This is not a token.\")"
   ]
  },
  {
   "cell_type": "markdown",
   "metadata": {},
   "source": [
    "<div style=\"background-color: #ffcccc; padding: 10px; border-radius: 5px;\">\n",
    "⚠️ Our implementation will throw an error if there is an unknown character since we didn’t do anything to handle them. GPT-2 doesn’t actually have an unknown token (it’s impossible to get an unknown character when using byte-level BPE), but this could happen here because we did not include all the possible bytes in the initial vocabulary. This aspect of BPE is beyond the scope of this section, so we’ve left the details out.\n",
    "</div>"
   ]
  },
  {
   "cell_type": "markdown",
   "metadata": {},
   "source": [
    "#### That’s it for the BPE algorithm!"
   ]
  },
  {
   "attachments": {},
   "cell_type": "markdown",
   "metadata": {},
   "source": [
    "# Let's consider BPE for genomics\n",
    "\n",
    "**Q: What should the base vocabulary be?**\n",
    "\n",
    "**A:** The nucleotides (A, C, T, G)\n",
    "\n",
    "**Q: What do the merged pairs represent?**\n",
    "\n",
    "**A:** Commonly occuring contigous sequence motifs (i.e., k-mers)\n",
    "\n",
    "**Q: Why is this compression important for genomes?**\n",
    "\n",
    "**A:** Because genomes can be very long. If we tokenized at single nucleotide resolution,\n",
    "we would need context windows to be 3B tokens to handle the human genome. \n",
    "Since the attention mechanism of transformers scales quadratically with input sequence length,\n",
    "we would require O(3B^2) = O(9e^18) $\\approx$ quintillion operations.\n",
    "\n",
    "![image.png](https://github.com/scifm/summer-school-2024/blob/main/img/omics-bpe.png?raw=true)"
   ]
  },
  {
   "cell_type": "code",
   "execution_count": null,
   "metadata": {},
   "outputs": [],
   "source": []
  }
 ],
 "metadata": {
  "colab": {
   "name": "Byte-Pair Encoding tokenization",
   "provenance": []
  },
  "kernelspec": {
   "display_name": "Python 3 (ipykernel)",
   "language": "python",
   "name": "python3"
  },
  "language_info": {
   "codemirror_mode": {
    "name": "ipython",
    "version": 3
   },
   "file_extension": ".py",
   "mimetype": "text/x-python",
   "name": "python",
   "nbconvert_exporter": "python",
   "pygments_lexer": "ipython3",
   "version": "3.9.2"
  }
 },
 "nbformat": 4,
 "nbformat_minor": 4
}
