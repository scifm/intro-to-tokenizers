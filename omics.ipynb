{
 "cells": [
  {
   "cell_type": "markdown",
   "id": "a0d2c92f-f3fc-4a22-abaf-f7053695e56c",
   "metadata": {
    "id": "a0d2c92f-f3fc-4a22-abaf-f7053695e56c"
   },
   "source": [
    "# Omics Tutorial\n",
    "\n",
    "## Installation\n",
    "\n",
    "Please run the cell block below:"
   ]
  },
  {
   "cell_type": "code",
   "execution_count": null,
   "id": "7f360f81-d762-46f9-8a90-21e48a298148",
   "metadata": {
    "colab": {
     "base_uri": "https://localhost:8080/"
    },
    "id": "7f360f81-d762-46f9-8a90-21e48a298148",
    "outputId": "e1afa8a9-5e02-49c3-e604-56478e934b37"
   },
   "outputs": [
    {
     "name": "stdout",
     "output_type": "stream",
     "text": [
      "\u001b[2K     \u001b[90m━━━━━━━━━━━━━━━━━━━━━━━━━━━━━━━━━━━━━━━━\u001b[0m \u001b[32m60.9/60.9 kB\u001b[0m \u001b[31m4.3 MB/s\u001b[0m eta \u001b[36m0:00:00\u001b[0m\n",
      "\u001b[2K   \u001b[90m━━━━━━━━━━━━━━━━━━━━━━━━━━━━━━━━━━━━━━━━\u001b[0m \u001b[32m19.3/19.3 MB\u001b[0m \u001b[31m78.3 MB/s\u001b[0m eta \u001b[36m0:00:00\u001b[0m\n",
      "\u001b[?25h\u001b[33mWARNING: Running pip as the 'root' user can result in broken permissions and conflicting behaviour with the system package manager. It is recommended to use a virtual environment instead: https://pip.pypa.io/warnings/venv\u001b[0m\u001b[33m\n",
      "\u001b[0m✨🍰✨ Everything looks OK!\n",
      "Channels:\n",
      " - conda-forge\n",
      " - bioconda\n",
      "Platform: linux-64\n",
      "Collecting package metadata (repodata.json): ...working... done\n",
      "Solving environment: ...working... done\n",
      "\n",
      "# All requested packages already installed.\n",
      "\n",
      "--2024-07-10 16:40:06--  https://raw.githubusercontent.com/scifm/intro-to-tokenizers/main/data/example.fasta\n",
      "Resolving raw.githubusercontent.com (raw.githubusercontent.com)... 185.199.108.133, 185.199.109.133, 185.199.110.133, ...\n",
      "Connecting to raw.githubusercontent.com (raw.githubusercontent.com)|185.199.108.133|:443... connected.\n",
      "HTTP request sent, awaiting response... 200 OK\n",
      "Length: 199 [text/plain]\n",
      "Saving to: ‘example.fasta.1’\n",
      "\n",
      "example.fasta.1     100%[===================>]     199  --.-KB/s    in 0s      \n",
      "\n",
      "2024-07-10 16:40:06 (10.2 MB/s) - ‘example.fasta.1’ saved [199/199]\n",
      "\n",
      "--2024-07-10 16:40:06--  https://rest.uniprot.org/uniprotkb/stream?format=fasta&query=%28dugong%29\n",
      "Resolving rest.uniprot.org (rest.uniprot.org)... 193.62.193.81\n",
      "Connecting to rest.uniprot.org (rest.uniprot.org)|193.62.193.81|:443... connected.\n",
      "HTTP request sent, awaiting response... 200 \n",
      "Length: unspecified [text/plain]\n",
      "Saving to: ‘dugong_data.fasta’\n",
      "\n",
      "dugong_data.fasta       [  <=>               ]  80.91K   257KB/s    in 0.3s    \n",
      "\n",
      "2024-07-10 16:40:07 (257 KB/s) - ‘dugong_data.fasta’ saved [82850]\n",
      "\n"
     ]
    }
   ],
   "source": [
    "# Install biopython and conda\n",
    "!pip --quiet install condacolab biopython==1.75\n",
    "\n",
    "# Install mmseqs2\n",
    "import condacolab\n",
    "condacolab.install()\n",
    "!conda install -c conda-forge -c bioconda mmseqs2 -y -q\n",
    "\n",
    "# Download the example data\n",
    "!wget https://raw.githubusercontent.com/scifm/intro-to-tokenizers/main/data/example.fasta\n",
    "\n",
    "# Download the dugong mmseqs example data from uniprot\n",
    "!wget -O dugong_data.fasta \"https://rest.uniprot.org/uniprotkb/stream?format=fasta&query=%28dugong%29\""
   ]
  },
  {
   "cell_type": "markdown",
   "id": "061aff8e-9068-4941-b919-ad5b08c02a41",
   "metadata": {
    "id": "061aff8e-9068-4941-b919-ad5b08c02a41"
   },
   "source": [
    "# Omics\n",
    "\n",
    "The branches of science known informally as omics are various disciplines in biology whose names end in the suffix -omics, such as genomics, proteomics, metabolomics, metagenomics, phenomics and transcriptomics. Omics aims at the collective characterization and quantification of pools of biological molecules that translate into the structure, function, and dynamics of an organism or organisms. [source](https://www.mdpi.com/2673-592X/2/1/9)\n",
    "\n",
    "![image.png](https://github.com/scifm/summer-school-2024/blob/main/img/omics-overview.png?raw=true)\n",
    "\n",
    "The suffix -ome as used in molecular biology refers to a totality of some sort.\n",
    "\n",
    "For more information: https://en.wikipedia.org/wiki/Omics\n",
    "\n",
    "\n",
    "# There are many types of omics\n",
    "\n",
    "1. **Genomics**: Study of the genome, the complete set of genes in an organism.\n",
    "\n",
    "2. **Proteomics**: Study of the proteome, the entire collection of proteins in an organism's cells.\n",
    "\n",
    "3. **Metabolomics**: Study of metabolism and the function and interactions of metabolic breakdown products, or metabolites.\n",
    "\n",
    "4. Transcriptomics: Study of the full complement of RNA in an organism's cells.\n",
    "\n",
    "5. Lipidomics: Study of lipids and pathways involved in lipid signaling.\n",
    "\n",
    "6. Epigenomics: Study of the chemical modifications to DNA and histone proteins that regulate gene expression without changing the DNA sequence.\n",
    "\n",
    "### ... there are actually 194 types of omics listed on the [wikipedia](https://en.wikipedia.org/wiki/Omics) page.\n",
    "\n",
    "This tutorial will primarily focus on **genomics** and **proteomics**.\n",
    "\n",
    "# Why should you be aware of omics?\n",
    "\n",
    "### Personalized medicine\n",
    "[Personalized medicine](https://www.genome.gov/genetics-glossary/Personalized-Medicine) is an emerging practice of medicine that uses an individual's genetic profile to guide decisions made in regard to the prevention, diagnosis, and treatment of disease.\n",
    "\n",
    "### One Health\n",
    "['One Health'](https://www.who.int/news-room/questions-and-answers/item/one-health) is an integrated, unifying approach to balance and optimize the health of people, animals and the environment. It is particularly important to prevent, predict, detect, and respond to global health threats such as the COVID-19 pandemic.\n",
    "\n",
    "### Sustainability\n",
    "\"Omics tools can illuminate the major drivers of biodiversity loss, including invasive species, pollution, urbanization, overexploitation, and climate change.\" [Source](https://www.sciencedirect.com/science/article/pii/S0958166923000113)\n",
    "\n",
    "\n",
    "# Machine learning and omics\n",
    "\n",
    "Recent advancements in sequencing technology have exponentially expanded genetic databases. We need to develop machine learning techniques to harness this data at scale to explore new hypotheses, make new discoveries, and improve the quality of life on Earth.\n",
    "\n",
    "![image.png](https://github.com/scifm/summer-school-2024/blob/main/img/ena_embl_growth.png?raw=true)\n",
    "\n",
    "Source: https://www.ebi.ac.uk/ena/browser/about/statistics\n",
    "\n"
   ]
  },
  {
   "cell_type": "markdown",
   "id": "3accb8ca-d699-4e9a-b771-2193e048e28b",
   "metadata": {
    "id": "3accb8ca-d699-4e9a-b771-2193e048e28b"
   },
   "source": [
    "# 1. Biology fundamentals"
   ]
  },
  {
   "cell_type": "markdown",
   "id": "d350be18-4370-4f86-b340-f13d31cec9b6",
   "metadata": {
    "id": "d350be18-4370-4f86-b340-f13d31cec9b6"
   },
   "source": [
    "## What is DNA?\n",
    "\n",
    "**DNA (Deoxyribonucleic Acid)** is the molecule that carries the genetic instructions for life. It is composed of two long strands that coil around each other to form a double helix. Each strand is made up of a sequence of nucleotides, which are the basic units of DNA. There are four types of nucleotides in DNA, distinguished by the nitrogenous bases they contain: adenine (A), thymine (T), cytosine (C), and guanine (G).\n",
    "\n",
    "![image.png](https://github.com/scifm/summer-school-2024/blob/main/img/dna.jpg?raw=true)\n",
    "\n",
    "Source: https://www.genome.gov/genetics-glossary/Deoxyribonucleic-Acid\n",
    "\n",
    "### Key Points:\n",
    "- **Double Helix Structure**: DNA's double helix is formed by two complementary strands that run in opposite directions.\n",
    "- **Nucleotide Composition**: Each nucleotide consists of a sugar (deoxyribose), a phosphate group, and a nitrogenous base.\n",
    "- **Base Pairing**: Adenine pairs with thymine (A-T) and cytosine pairs with guanine (C-G) through hydrogen bonds.\n",
    "- **Genetic Information**: DNA stores genetic information that determines the development, functioning, growth, and reproduction of all living organisms and many viruses.\n",
    "- **Protein Synthesis**: DNA sequences (genes) are transcribed into RNA, which then directs the synthesis of proteins.\n",
    "\n",
    "## What is RNA?\n",
    "\n",
    "**RNA (Ribonucleic Acid)** is a single-stranded molecule involved in various roles within the cell, mainly related to the synthesis of proteins. RNA is similar to DNA but has some key differences: it contains the sugar ribose instead of deoxyribose, and the base uracil (U) replaces thymine (T).\n",
    "\n",
    "![image.png](https://github.com/scifm/summer-school-2024/blob/main/img/rna.jpg?raw=true)\n",
    "\n",
    "Source: https://www.genome.gov/genetics-glossary/RNA-Ribonucleic-Acid\n",
    "\n",
    "### Key Points:\n",
    "- **Single-Stranded**: Unlike DNA, RNA is typically single-stranded.\n",
    "- **Nucleotide Composition**: Each nucleotide in RNA consists of a sugar (ribose), a phosphate group, and a nitrogenous base (adenine (A), uracil (U), cytosine (C), and guanine (G)).\n",
    "- **Types of RNA**:\n",
    "  - **mRNA (Messenger RNA)**: Carries the genetic information from DNA to the ribosome, where proteins are synthesized.\n",
    "  - **tRNA (Transfer RNA)**: Brings the appropriate amino acids to the ribosome during protein synthesis.\n",
    "  - **rRNA (Ribosomal RNA)**: A component of ribosomes, which are the sites of protein synthesis.\n",
    "  - And more ...\n",
    "- **Transcription**: The process of copying a segment of DNA into RNA.\n",
    "- **Translation**: The process where mRNA is decoded by ribosomes to produce a specific protein.\n",
    "- **Gene Regulation**: Certain types of RNA (like miRNA and siRNA) are involved in regulating gene expression.\n",
    "\n",
    "## What is a Protein?\n",
    "\n",
    "**Proteins** are large, complex molecules that play many critical roles in the body. They are made up of one or more chains of amino acids, which are linked together in a specific order determined by the sequence of nucleotides in the gene encoding the protein. Proteins are essential for the structure, function, and regulation of the body's tissues and organs.\n",
    "\n",
    "![image.png](https://github.com/scifm/summer-school-2024/blob/main/img/protein.jpg?raw=true)\n",
    "\n",
    "Source: https://www.genome.gov/genetics-glossary/Protein\n",
    "\n",
    "### Key Points:\n",
    "- **Amino Acids**: The building blocks of proteins. There are 20 different amino acids that combine to form proteins.\n",
    "- **Structure Levels**:\n",
    "  - **Primary Structure**: The sequence of amino acids in a polypeptide chain.\n",
    "  - **Secondary Structure**: Local folding into structures like alpha-helices and beta-sheets.\n",
    "  - **Tertiary Structure**: The overall three-dimensional shape of a single polypeptide chain.\n",
    "  - **Quaternary Structure**: The structure formed by multiple polypeptide chains (subunits).\n",
    "- **Functions**: Enzymatic activity, structural support, transport molecules, cell signaling, immune response.\n",
    "\n",
    "## Putting it all together with ribosomes\n",
    "\n",
    "![image.png](https://github.com/scifm/summer-school-2024/blob/main/img/ribosome.jpg?raw=true)\n",
    "\n",
    "Source: https://www.genome.gov/genetics-glossary/Ribosome\n",
    "\n",
    "Proteins are synthesized through the processes of **transcription** (DNA to RNA) and **translation** (RNA to protein), highlighting the central role of DNA and RNA in protein production.\n"
   ]
  },
  {
   "cell_type": "markdown",
   "id": "644087a6-95f7-404a-a608-3171608447e9",
   "metadata": {
    "id": "644087a6-95f7-404a-a608-3171608447e9"
   },
   "source": [
    "![image.png](https://github.com/scifm/intro-to-tokenizers/blob/main/img/central_dogma.jpg?raw=true)\n",
    "\n",
    "Source: https://en.wikipedia.org/wiki/Central_dogma_of_molecular_biology\n",
    "\n",
    "In general we assume that coding sequences of DNA will propogate to proteins through ribosomes."
   ]
  },
  {
   "cell_type": "markdown",
   "id": "ae0a17a2-f550-42f7-a4ec-9fba9a47afa2",
   "metadata": {
    "id": "ae0a17a2-f550-42f7-a4ec-9fba9a47afa2"
   },
   "source": [
    "## The genetic code\n",
    "\n",
    "Genetic code refers to the instructions contained in a gene that tell a cell how to make a specific protein. Each gene’s code uses the four nucleotide bases of DNA: adenine (A), cytosine (C), guanine (G) and thymine (T) / uracil (U) — in various ways to spell out three-letter “codons” that specify which amino acid is needed at each position within a protein.\n",
    "\n",
    "![image.png](https://github.com/scifm/summer-school-2024/blob/main/img/genetic-code.jpg?raw=true)\n",
    "\n",
    "Source: https://www.genome.gov/genetics-glossary/Genetic-Code"
   ]
  },
  {
   "cell_type": "markdown",
   "id": "f347cddf-9bce-4241-8356-fec2e325769f",
   "metadata": {
    "id": "f347cddf-9bce-4241-8356-fec2e325769f"
   },
   "source": [
    "# 2. Genomics file formats\n",
    "\n",
    "## FASTA File Format\n",
    "\n",
    "The FASTA file format is a widely used format for representing nucleotide sequences (DNA or RNA) or peptide sequences (proteins).\n",
    "\n",
    "For more information: https://en.wikipedia.org/wiki/FASTA_format\n",
    "\n",
    "### Structure of a FASTA File\n",
    "\n",
    "A FASTA file consists of multiple sequence entries. Each entry has two main components:\n",
    "\n",
    "1. **Header Line**: Begins with a `>` character, followed by a sequence identifier and an optional description.\n",
    "2. **Sequence Lines**: One or more lines that contain the actual sequence data (nucleotides or amino acids).\n",
    "\n",
    "### Example of a FASTA File containing nucleotide sequences\n",
    "\n",
    "```plaintext\n",
    ">sequence1 description of sequence 1\n",
    "ATGCGTACGTAGCTAGCTAGCTA\n",
    "GCTAGCTAGCTAGCTAGCTAGCT\n",
    ">sequence2 description of sequence 2\n",
    "GATTACAAGGTTAGCTAGCTAGT\n",
    "AGCTAGCTAGCTAGCTAGCTAGC\n",
    "```\n",
    "\n",
    "### Tips for dealing with FASTA files\n",
    "- **Line Length**: While not mandatory, it's common practice to limit sequence lines to a maximum of 80 characters for better readability.\n",
    "- **File Extension**: FASTA files typically have extensions like .fasta, .fa, .fna (nucleic acid), or .faa (amino acid).\n",
    "- **Applications**: FASTA files are used in bioinformatics for sequence alignment, database searching, and other computational analyses."
   ]
  },
  {
   "cell_type": "code",
   "execution_count": null,
   "id": "f78e9826-14bc-4d0a-9e4f-8834ae93329a",
   "metadata": {
    "colab": {
     "base_uri": "https://localhost:8080/"
    },
    "id": "f78e9826-14bc-4d0a-9e4f-8834ae93329a",
    "outputId": "c59f84c9-4397-44e9-d677-a424ea362d56"
   },
   "outputs": [
    {
     "name": "stdout",
     "output_type": "stream",
     "text": [
      "ID: Sequence_1\n",
      "Description: Sequence_1\n",
      "Nucleotide sequence: ATGCGACTACGATCGAGGGCCATGTGA\n",
      "Amino acid sequence: MRLRSRAM*\n",
      "\n",
      "ID: Sequence_2\n",
      "Description: Sequence_2\n",
      "Nucleotide sequence: ATGCGACTACGATCGAGGGCCATGCCCTGA\n",
      "Amino acid sequence: MRLRSRAMP*\n",
      "\n",
      "ID: Sequence_3\n",
      "Description: Sequence_3\n",
      "Nucleotide sequence: ATGCGTAGCTGGCTAGCATCGATGCTAGCTGATTAA\n",
      "Amino acid sequence: MRSWLASMLAD*\n",
      "\n",
      "ID: Sequence_4\n",
      "Description: Sequence_4\n",
      "Nucleotide sequence: ATGTTAGCTAGCTCGCTCGATCGATCGCAGCTGATCGATCGTAGCTTGCTATGA\n",
      "Amino acid sequence: MLASSLDRSQLIDRSLL*\n",
      "\n"
     ]
    }
   ],
   "source": [
    "# Reading a fasta file in python\n",
    "from Bio import SeqIO\n",
    "\n",
    "# Replace 'your_fasta_file.fasta' with the path to your FASTA file\n",
    "fasta_file = \"example.fasta\"\n",
    "\n",
    "# Read the FASTA file\n",
    "sequences = list(SeqIO.parse(fasta_file, \"fasta\"))\n",
    "\n",
    "# Print out each sequence\n",
    "for seq_record in sequences:\n",
    "    # Get the nucleotide sequence\n",
    "    nucleotide_seq = seq_record.seq\n",
    "\n",
    "    # Get the amino acid sequence\n",
    "    amino_acid_seq = nucleotide_seq.translate()\n",
    "\n",
    "    # Print the sequence info\n",
    "    print(f\"ID: {seq_record.id}\")\n",
    "    print(f\"Description: {seq_record.description}\")\n",
    "    print(f\"Nucleotide sequence: {nucleotide_seq}\")\n",
    "    print(f\"Amino acid sequence: {amino_acid_seq}\\n\")"
   ]
  },
  {
   "cell_type": "markdown",
   "id": "tVIzCYz5jdjJ",
   "metadata": {
    "id": "tVIzCYz5jdjJ"
   },
   "source": [
    "**Note**: The * symbols at the end of the amino acid sequences is Biopythons way of indicating that this is a full protein sequence that is not truncated (it is a place holder for a STOP codon). This token is not required in a the fasta format."
   ]
  },
  {
   "cell_type": "markdown",
   "id": "a6dfbece-21c6-4a29-b2df-33949122aee4",
   "metadata": {
    "id": "a6dfbece-21c6-4a29-b2df-33949122aee4"
   },
   "source": [
    "# 3. Toward building genomic foundation models\n",
    "\n",
    "If we want to train foundation models for genomics, it is important to understand the underlying data distribution and the process by which it was generated (i.e., **[evolution](https://en.wikipedia.org/wiki/Evolution)**).\n",
    "\n",
    "## Evolutionary conservation\n",
    "\n",
    "**[Sequence homology](https://en.wikipedia.org/wiki/Sequence_homology)** is the biological homology between DNA, RNA, or protein sequences, defined in terms of shared ancestry in the evolutionary history of life. Two segments of DNA can have shared ancestry because of three phenomena:\n",
    "1. Speciation events (orthologs)\n",
    "2. Duplication events (paralogs)\n",
    "3. Horizontal (or lateral) gene transfer events (xenologs)\n",
    "\n",
    "Homology among DNA, RNA, or proteins is typically inferred from their nucleotide or amino acid **[sequence similarity](https://www.ncbi.nlm.nih.gov/pmc/articles/PMC3820096/)**. Significant similarity is strong evidence that two sequences are related by evolutionary changes from a common ancestral sequence. **[Alignments](https://en.wikipedia.org/wiki/Multiple_sequence_alignment)** of multiple sequences are used to indicate which regions of each sequence are homologous. Computationally, this resembles the [Longest Common Subsequence](https://www.geeksforgeeks.org/longest-common-subsequence-dp-4/) (LCS) problem.\n",
    "\n",
    "**Conservation indicates that a sequence or important subsequence (i.e., [motif](https://en.wikipedia.org/wiki/Sequence_motif)) has been maintained by natural selection.**\n",
    "\n",
    "**These patterns, along with the biological functions they encode, are what we hope for a genomic foundation model to learn.**\n",
    "\n",
    "### Example: discovering a new domain of life through evolutionary conservation\n",
    "\n",
    "One important class of highly conserved sequences are the [RNA components](https://en.wikipedia.org/wiki/Ribosomal_RNA) of [ribosomes](https://en.wikipedia.org/wiki/Ribosome) present in all domains of life. By comparing these across a diverse set of organisms, Woese and Fox were able to discover a new domain of life, the archaea.\n",
    "\n",
    "![image.png](https://github.com/scifm/summer-school-2024/blob/main/img/woese-paper.png?raw=true)\n",
    "\n",
    "\n",
    "![image.png](https://github.com/scifm/summer-school-2024/blob/main/img/tree-of-life.png?raw=true)\n",
    "\n",
    "\n",
    "**LUCA**: [last universal common ancestor](https://en.wikipedia.org/wiki/Last_universal_common_ancestor)"
   ]
  },
  {
   "cell_type": "markdown",
   "id": "a6a30735-a0e6-44f8-8ba2-d5a726756f06",
   "metadata": {
    "id": "a6a30735-a0e6-44f8-8ba2-d5a726756f06"
   },
   "source": [
    "## Sequence alignment\n",
    "\n",
    "Sequence alignment computational approach for understanding the similarities between sequences.\n",
    "\n",
    "We willl focus on [Pairwise sequence alignment](https://en.wikipedia.org/wiki/Sequence_alignment) which uses a [dynamic programming](https://en.wikipedia.org/wiki/Dynamic_programming) algorithm.\n",
    "\n",
    "There are two primary types of alignment:\n",
    "- **Local alignment**: finds just the subsequences that align the best.\n",
    "- **Global alignment**: finds the best agreement between all characters in two sequences.\n",
    "\n",
    "When aligning sequences, there are two important settings you can specify, the **match score** and **gap penalty**.\n",
    "\n",
    "### Understanding Match Score and Gap Penalty\n",
    "#### Match Score\n",
    "- Match Score: Points given when characters in two sequences match. Higher points indicate higher similarity.\n",
    "- Exact Match (x): Full points for identical characters (e.g., A vs. A might score +1).\n",
    "\n",
    "#### Gap Penalty\n",
    "- Gap Penalty: Points subtracted for inserting gaps in the alignment (these could represent **insertion** or **deletion** mutations)\n",
    "- Gap **Open Penalty**: Cost of starting a new gap.\n",
    "- Gap **Extension Penalty**: Cost of extending an existing gap."
   ]
  },
  {
   "cell_type": "markdown",
   "id": "e17a85da-4947-4347-9585-76202a2764fb",
   "metadata": {
    "id": "e17a85da-4947-4347-9585-76202a2764fb"
   },
   "source": [
    "### Global alignment"
   ]
  },
  {
   "cell_type": "code",
   "execution_count": null,
   "id": "d13fb222-05fb-4994-b804-0257ab21846c",
   "metadata": {
    "id": "d13fb222-05fb-4994-b804-0257ab21846c"
   },
   "outputs": [],
   "source": [
    "from Bio import pairwise2\n",
    "from Bio.pairwise2 import format_alignment"
   ]
  },
  {
   "cell_type": "code",
   "execution_count": null,
   "id": "3ccdaf3e-1683-4474-be30-126578f81b9d",
   "metadata": {
    "colab": {
     "base_uri": "https://localhost:8080/"
    },
    "id": "3ccdaf3e-1683-4474-be30-126578f81b9d",
    "outputId": "85aa86d8-2b04-4dfb-fb5c-9967bd17d09e"
   },
   "outputs": [
    {
     "name": "stdout",
     "output_type": "stream",
     "text": [
      "ACCGT\n",
      "| || \n",
      "A-CG-\n",
      "  Score=3\n",
      "\n",
      "ACCGT\n",
      "|| | \n",
      "AC-G-\n",
      "  Score=3\n",
      "\n"
     ]
    }
   ],
   "source": [
    "# Align the two sequences with:\n",
    "# Match score: 1 for identical characters and otherwise 0\n",
    "# Gap penalty: None\n",
    "alignments = pairwise2.align.globalxx(\"ACCGT\", \"ACG\")\n",
    "\n",
    "# Print the alignments\n",
    "for alignment in alignments:\n",
    "    print(format_alignment(*alignment))"
   ]
  },
  {
   "cell_type": "code",
   "execution_count": null,
   "id": "7ba5db28-1f3b-4c57-a6d3-acb783e4af3d",
   "metadata": {
    "colab": {
     "base_uri": "https://localhost:8080/"
    },
    "id": "7ba5db28-1f3b-4c57-a6d3-acb783e4af3d",
    "outputId": "839912aa-539d-4278-ac03-d59b02e7f3ce"
   },
   "outputs": [
    {
     "name": "stdout",
     "output_type": "stream",
     "text": [
      "ACCGT\n",
      "| || \n",
      "A-CG-\n",
      "  Score=6\n",
      "\n",
      "ACCGT\n",
      "|| | \n",
      "AC-G-\n",
      "  Score=6\n",
      "\n"
     ]
    }
   ],
   "source": [
    "# Align the two sequences with:\n",
    "# Match score: 2 for identical characters and otherwise -1\n",
    "# Gap penalty: None\n",
    "alignments = pairwise2.align.globalmx(\"ACCGT\", \"ACG\", 2, -1)\n",
    "\n",
    "# Print the alignments\n",
    "for alignment in alignments:\n",
    "    print(format_alignment(*alignment))"
   ]
  },
  {
   "cell_type": "code",
   "execution_count": null,
   "id": "e7bd783f-23c6-46d0-ba3f-93129fa82261",
   "metadata": {
    "colab": {
     "base_uri": "https://localhost:8080/"
    },
    "id": "e7bd783f-23c6-46d0-ba3f-93129fa82261",
    "outputId": "7026bf7b-e0f8-4b28-8ea7-430447c8e11d"
   },
   "outputs": [
    {
     "name": "stdout",
     "output_type": "stream",
     "text": [
      "ACCGT\n",
      "| || \n",
      "A-CG-\n",
      "  Score=5\n",
      "\n",
      "ACCGT\n",
      "|| | \n",
      "AC-G-\n",
      "  Score=5\n",
      "\n"
     ]
    }
   ],
   "source": [
    "# Align the two sequences with:\n",
    "# Match score: 2 for identical characters and otherwise -1.\n",
    "# Gap penalty: 0.5 points are deducted when opening a gap, and 0.1 points are deducted when extending it\n",
    "alignments = pairwise2.align.globalms(\"ACCGT\", \"ACG\", 2, -1, -.5, -.1)\n",
    "\n",
    "# Print the alignments\n",
    "for alignment in alignments:\n",
    "    print(format_alignment(*alignment))"
   ]
  },
  {
   "cell_type": "markdown",
   "id": "ccf720fa-0c40-416b-8e78-1a89cd4fc97a",
   "metadata": {
    "id": "ccf720fa-0c40-416b-8e78-1a89cd4fc97a"
   },
   "source": [
    "### Local alignment"
   ]
  },
  {
   "cell_type": "code",
   "execution_count": null,
   "id": "43fc08e9-ac26-4c35-be50-ec107860d6b8",
   "metadata": {
    "colab": {
     "base_uri": "https://localhost:8080/"
    },
    "id": "43fc08e9-ac26-4c35-be50-ec107860d6b8",
    "outputId": "be705b51-8509-4905-ed21-f21d60acd12d"
   },
   "outputs": [
    {
     "name": "stdout",
     "output_type": "stream",
     "text": [
      "1 A-CCCG\n",
      "  | ||||\n",
      "1 ATCCCG\n",
      "  Score=10\n",
      "\n"
     ]
    }
   ],
   "source": [
    "# Align the two sequences with:\n",
    "# Match score: 2 for identical characters and otherwise -1\n",
    "# Gap penalty: None\n",
    "alignments = pairwise2.align.localmx(\"ACCCGT\", \"ATCCCG\", 2, -1)\n",
    "\n",
    "# Print the alignments\n",
    "for alignment in alignments:\n",
    "    print(format_alignment(*alignment))"
   ]
  },
  {
   "cell_type": "code",
   "execution_count": null,
   "id": "43044bf9-5073-4bd1-9626-4ff74866680e",
   "metadata": {
    "colab": {
     "base_uri": "https://localhost:8080/"
    },
    "id": "43044bf9-5073-4bd1-9626-4ff74866680e",
    "outputId": "04c8dc90-fa07-4a1c-87eb-da8f530c6459"
   },
   "outputs": [
    {
     "name": "stdout",
     "output_type": "stream",
     "text": [
      "1 AG-CCCG\n",
      "  |  ||||\n",
      "1 A-TCCCG\n",
      "  Score=10\n",
      "\n"
     ]
    }
   ],
   "source": [
    "# Align the two sequences with:\n",
    "# Match score: 2 for identical characters and otherwise -1\n",
    "# Gap penalty: None\n",
    "alignments = pairwise2.align.localmx(\"AGCCCGT\", \"ATCCCG\", 2, -1)\n",
    "\n",
    "# Print the alignments\n",
    "for alignment in alignments:\n",
    "    print(format_alignment(*alignment))"
   ]
  },
  {
   "cell_type": "code",
   "execution_count": null,
   "id": "92ac9498-55dc-4f0d-97bc-c5c0e82dfca6",
   "metadata": {
    "colab": {
     "base_uri": "https://localhost:8080/"
    },
    "id": "92ac9498-55dc-4f0d-97bc-c5c0e82dfca6",
    "outputId": "5f1e0fdf-860c-4892-d411-9f432fc156ae"
   },
   "outputs": [
    {
     "name": "stdout",
     "output_type": "stream",
     "text": [
      "1 AG-CCCG\n",
      "  |  ||||\n",
      "1 A-TCCCG\n",
      "  Score=9\n",
      "\n",
      "1 AGCCCG\n",
      "  |.||||\n",
      "1 ATCCCG\n",
      "  Score=9\n",
      "\n"
     ]
    }
   ],
   "source": [
    "# Align the two sequences with:\n",
    "# Match score: 2 for identical characters and otherwise -1\n",
    "# Gap penalty: 0.5 points are deducted when opening a gap, and 0.1 points are deducted when extending it\n",
    "alignments = pairwise2.align.localms(\"AGCCCGT\", \"ATCCCG\", 2, -1, -.5, -.1)\n",
    "\n",
    "# Print the alignments\n",
    "for alignment in alignments:\n",
    "    print(format_alignment(*alignment))"
   ]
  },
  {
   "cell_type": "code",
   "execution_count": null,
   "id": "b0755aa4-9c4a-4e1c-a4fa-359a505e3506",
   "metadata": {
    "colab": {
     "base_uri": "https://localhost:8080/"
    },
    "id": "b0755aa4-9c4a-4e1c-a4fa-359a505e3506",
    "outputId": "febed2c4-89c1-4ca9-d21c-b7c96f73319d"
   },
   "outputs": [
    {
     "name": "stdout",
     "output_type": "stream",
     "text": [
      "1 AGCCCG\n",
      "  |.||||\n",
      "1 ATCCCG\n",
      "  Score=9\n",
      "\n"
     ]
    }
   ],
   "source": [
    "# Align the two sequences with:\n",
    "# Match score: 2 for identical characters and otherwise -1\n",
    "# Gap penalty: 1 point is deducted when opening a gap, and 0.1 points are deducted when extending it\n",
    "alignments = pairwise2.align.localms(\"AGCCCGT\", \"ATCCCG\", 2, -1, -1, -.1)\n",
    "\n",
    "# Print the alignments\n",
    "for alignment in alignments:\n",
    "    print(format_alignment(*alignment))"
   ]
  },
  {
   "cell_type": "markdown",
   "id": "0596ebeb-73e9-4d74-8171-480b832c4e9f",
   "metadata": {
    "id": "0596ebeb-73e9-4d74-8171-480b832c4e9f"
   },
   "source": [
    "## Multiple sequence alignment\n",
    "\n",
    "**[Multiple sequence alignment (MSA)](https://en.wikipedia.org/wiki/Multiple_sequence_alignment)** is the process or the result of sequence alignment of three or more biological sequences, generally protein, DNA, or RNA.\n",
    "\n",
    "![image.png](https://github.com/scifm/summer-school-2024/blob/main/img/msa.gif?raw=true)"
   ]
  },
  {
   "cell_type": "markdown",
   "id": "94f340ed-f1c5-4dcb-b0a5-b8e146148f82",
   "metadata": {
    "id": "94f340ed-f1c5-4dcb-b0a5-b8e146148f82"
   },
   "source": [
    "# 4. How to deduplicate gene/protein data for training a foundation model?\n",
    "\n",
    "At a high level, we would like to train protein/genomic foundation models across diverse sets data.\n",
    "However, there exists bias in the sequence databases that reflect which sequences humans have spent\n",
    "time characterizing and sequencing. For instance, there are many more SARS-CoV-2 genomes sequenced\n",
    "then for other viruses.\n",
    "\n",
    "**Q: How can we ensure that our model training is not biased towards particular regions of sequence space?**\n",
    "\n",
    "**A:** By first clustering the sequences based on their similarity (i.e., alignments), and then sampling\n",
    "training examples from each cluster.\n",
    "\n",
    "There are many ways of doing this. In this tutorial, we demonstrate the use of [MMseqs2](https://github.com/soedinglab/MMseqs2).\n",
    "\n",
    "<!-- ![image.png](attachment:a5e130dd-67af-4e8a-8d3c-827cdbc9e38a.png) -->"
   ]
  },
  {
   "cell_type": "markdown",
   "id": "57255438-56c0-45b3-b602-0e8c81c8a620",
   "metadata": {
    "id": "57255438-56c0-45b3-b602-0e8c81c8a620"
   },
   "source": [
    "Note: Everything that is done for mmseqs2 clustering is an approximation or equal to pairwise alignment. Any massive scale approach needs some heuristics."
   ]
  },
  {
   "cell_type": "code",
   "execution_count": null,
   "id": "JnJrRPWqS4LC",
   "metadata": {
    "id": "JnJrRPWqS4LC"
   },
   "outputs": [],
   "source": [
    "from __future__ import annotations\n",
    "\n",
    "import re\n",
    "import subprocess\n",
    "import tempfile\n",
    "from pathlib import Path\n",
    "from dataclasses import dataclass\n",
    "import pandas as pd\n",
    "\n",
    "@dataclass\n",
    "class Sequence:\n",
    "    \"\"\"Store a biological sequence and its description tag.\"\"\"\n",
    "\n",
    "    sequence: str\n",
    "    \"\"\"Biological sequence (Nucleotide sequence).\"\"\"\n",
    "    tag: str\n",
    "    \"\"\"Sequence description tag.\"\"\"\n",
    "\n",
    "def read_fasta(fasta_file: str) -> list[Sequence]:\n",
    "    \"\"\"Read fasta file sequences and description tags into dataclass.\"\"\"\n",
    "    text = Path(fasta_file).read_text()\n",
    "    pattern = re.compile('^>', re.MULTILINE)\n",
    "    non_parsed_seqs = re.split(pattern, text)[1:]\n",
    "    lines = [\n",
    "        line.replace('\\n', '')\n",
    "        for seq in non_parsed_seqs\n",
    "        for line in seq.split('\\n', 1)\n",
    "    ]\n",
    "\n",
    "    return [\n",
    "        Sequence(sequence=seq, tag=tag)\n",
    "        for seq, tag in zip(lines[1::2], lines[::2])\n",
    "    ]\n",
    "\n",
    "def write_fasta(\n",
    "    sequences: Sequence | list[Sequence],\n",
    "    fasta_file: Path,\n",
    "    mode: str = 'w',\n",
    ") -> None:\n",
    "    \"\"\"Write or append sequences to a fasta file.\"\"\"\n",
    "    seqs = [sequences] if isinstance(sequences, Sequence) else sequences\n",
    "    with open(fasta_file, mode) as f:\n",
    "        f.write('\\n'.join(f'>{seq.tag}\\n{seq.sequence}' for seq in seqs))\n",
    "\n",
    "def mmseqs2_cluster(\n",
    "    sequences: list[Sequence],\n",
    "    min_seq_id: float = 0.5,\n",
    "    cluster_coverage: float = 0.8,\n",
    "    cov_mode: int = 1,\n",
    "    verbose: bool = False,\n",
    ") -> pd.DataFrame:\n",
    "    \"\"\"Cluster sequences using MMSeqs2.\n",
    "\n",
    "    Parameters\n",
    "    ----------\n",
    "    sequences : list[Sequence]\n",
    "        List of sequences to cluster.\n",
    "    min_seq_id : float, optional\n",
    "        Minimum sequence identity, by default 0.5\n",
    "    cluster_coverage : float, optional\n",
    "        Minimum cluster coverage, by default 0.8\n",
    "    cov_mode : int, optional\n",
    "        Coverage mode, by default 1\n",
    "    verbose : bool, optional\n",
    "        Whether to print the mmseqs2 output, by default False\n",
    "\n",
    "    Returns\n",
    "    -------\n",
    "    pd.DataFrame\n",
    "        Dataframe containing the clusters.\n",
    "    \"\"\"\n",
    "    with tempfile.TemporaryDirectory() as tmp:\n",
    "        # Write sequences to a temporary file\n",
    "        input_file = Path(tmp) / 'input.fasta'\n",
    "        write_fasta(sequences, input_file)\n",
    "\n",
    "        # MMSeqs2 command\n",
    "        command = (\n",
    "            f'mmseqs easy-cluster {input_file} clusterRes tmp '\n",
    "            f'--min-seq-id {min_seq_id} '\n",
    "            f'-c {cluster_coverage} '\n",
    "            f'--cov-mode {cov_mode}'\n",
    "        ).split()\n",
    "\n",
    "        # Run MMSeqs2\n",
    "        if verbose:\n",
    "            subprocess.run(command, check=True, cwd=tmp)\n",
    "        else:\n",
    "            with open(Path(tmp) / 'mmseqs2.log', 'w') as f:\n",
    "                subprocess.run(\n",
    "                    command, check=True, stdout=f, stderr=f, cwd=tmp\n",
    "                )\n",
    "\n",
    "        # Load the clustering result\n",
    "        cluster_file = Path(tmp) / 'clusterRes_cluster.tsv'\n",
    "        clusters = pd.read_csv(\n",
    "            cluster_file,\n",
    "            sep='\\t',\n",
    "            header=None,\n",
    "            names=['ClusterID', 'SequenceID'],\n",
    "        )\n",
    "\n",
    "        # Group sequences by clusters\n",
    "        groups = clusters.groupby('ClusterID')['SequenceID'].apply(list)\n",
    "\n",
    "    return groups"
   ]
  },
  {
   "cell_type": "markdown",
   "id": "nTgMFToHgcfs",
   "metadata": {
    "id": "nTgMFToHgcfs"
   },
   "source": [
    "Lets analyze protein sequence data from the [dugong](https://en.wikipedia.org/wiki/Dugong) to see how we might remove some redundancy via clustering.\n",
    "\n",
    "The dugong is a marine mammal on the vurnerable species list. It is one of four living species of the order Sirenia, which also includes three species of manatees. It is the only living representative of the once-diverse family Dugongidae; its closest modern relative, Steller's sea cow (Hydrodamalis gigas), was hunted to extinction in the 18th century.\n",
    "\n",
    "Dugongs like coastal habitats that support seagrass meadows.\n",
    "\n",
    "![Image](https://github.com/scifm/summer-school-2024/blob/main/img/dugong-image.jpg?raw=true)\n",
    "\n",
    "Source: https://www.barrierreef.org/the-reef/animals/dugong-facts"
   ]
  },
  {
   "cell_type": "code",
   "execution_count": null,
   "id": "qdjhVtZ9TlxN",
   "metadata": {
    "colab": {
     "base_uri": "https://localhost:8080/"
    },
    "id": "qdjhVtZ9TlxN",
    "outputId": "2eee9578-1424-47cb-980d-0befee71c8ff"
   },
   "outputs": [
    {
     "name": "stdout",
     "output_type": "stream",
     "text": [
      "ClusterID\n",
      "A0A0H4APU1    [A0A0H4APU1, A0A0H4ARC6, A0A0H4AV94, G3M6K5]\n",
      "A0A0H4APV9            [A0A0H4APV9, A0A0H4AYE9, A0A0H4ARE7]\n",
      "A0A0H4APW9    [A0A0H4APW9, A0A0H4ARF3, A0A0H4AYF3, G5CY25]\n",
      "A0A0H4ARD1                [A0A0H4ARD1, A0A0H4AWC3, G5CXB3]\n",
      "A0A0H4ARE3            [A0A0H4ARE3, A0A0H4AWD0, A0A0H4AYE6]\n",
      "                                  ...                     \n",
      "Q8W9N5                        [Q8W9N5, A0A3G2ZNA7, Q8SK61]\n",
      "Q8W9N6                                [Q8W9N6, A0A3G2ZMN7]\n",
      "Q9GJZ3                                            [Q9GJZ3]\n",
      "Q9UAR4                                            [Q9UAR4]\n",
      "R9RZK1            [R9RZK1, R9RY66, R9S070, R9S071, R9RZZ0]\n",
      "Name: SequenceID, Length: 61, dtype: object\n"
     ]
    }
   ],
   "source": [
    "# Read the dugong protein sequences\n",
    "sequences = read_fasta(\"dugong_data.fasta\")\n",
    "\n",
    "# Run mmseqs2 clustering\n",
    "clusters = mmseqs2_cluster(sequences, cov_mode=1, min_seq_id=0.5, cluster_coverage=0.8)\n",
    "\n",
    "print(clusters)"
   ]
  },
  {
   "cell_type": "code",
   "execution_count": null,
   "id": "zO5_dfd8bIwp",
   "metadata": {
    "colab": {
     "base_uri": "https://localhost:8080/"
    },
    "id": "zO5_dfd8bIwp",
    "outputId": "3b1a9520-a3ed-4379-bfb3-96e68321acb0"
   },
   "outputs": [
    {
     "name": "stdout",
     "output_type": "stream",
     "text": [
      "Number of clusters 61 out of 190 sequences\n"
     ]
    }
   ],
   "source": [
    "# See how many clusters there are\n",
    "print(f\"Number of clusters {len(clusters)} out of {len(sequences)} sequences\")"
   ]
  },
  {
   "cell_type": "code",
   "execution_count": null,
   "id": "iO2efP_3Vhr9",
   "metadata": {
    "colab": {
     "base_uri": "https://localhost:8080/",
     "height": 564
    },
    "id": "iO2efP_3Vhr9",
    "outputId": "9901a74e-bdee-46ba-871b-c72d97830d2a"
   },
   "outputs": [
    {
     "data": {
      "image/png": "[encoded data removed]",
      "text/plain": [
       "<Figure size 800x600 with 1 Axes>"
      ]
     },
     "metadata": {},
     "output_type": "display_data"
    }
   ],
   "source": [
    "import matplotlib.pyplot as plt\n",
    "\n",
    "# Compute the number of proteins per cluster\n",
    "cluster_counts = [len(cluster) for cluster in clusters]\n",
    "\n",
    "# Plotting the histogram of the cluster counts\n",
    "plt.figure(figsize=(8, 6))\n",
    "plt.hist(cluster_counts, bins=range(min(cluster_counts), max(cluster_counts) + 2), align='left', rwidth=0.8)\n",
    "plt.xlabel('Number of Sequences per Cluster')\n",
    "plt.ylabel('Number of Clusters')\n",
    "plt.title('Sequences per MMseqs2 Cluster')\n",
    "plt.grid(axis='y', alpha=0.5)\n",
    "plt.show()"
   ]
  },
  {
   "cell_type": "code",
   "execution_count": null,
   "id": "ejoL_7mfbXAw",
   "metadata": {
    "colab": {
     "base_uri": "https://localhost:8080/"
    },
    "id": "ejoL_7mfbXAw",
    "outputId": "bd3043d0-0072-4b4e-95ab-a6af4db2f020"
   },
   "outputs": [
    {
     "name": "stdout",
     "output_type": "stream",
     "text": [
      "Size of largest cluster:  12\n",
      "Cluster membership:\n",
      "['Q45XH5', 'A0A481WND8', 'A0A481WND9', 'A0A481WNH0', 'A0A481WPK4', 'A0A481WQ07', 'A0A481WQ84', 'A0A481WQZ5', 'Q45XI7', 'A0A481WPM8', 'A0A481WQB0', 'A0A481WR13']\n"
     ]
    }
   ],
   "source": [
    "# Get the largest cluster\n",
    "largest_cluster = max(clusters, key=lambda x: len(x))\n",
    "\n",
    "print(\"Size of largest cluster: \", len(largest_cluster))\n",
    "print(\"Cluster membership:\")\n",
    "print(largest_cluster)"
   ]
  },
  {
   "cell_type": "code",
   "execution_count": null,
   "id": "75ETGwN7b9bC",
   "metadata": {
    "colab": {
     "base_uri": "https://localhost:8080/"
    },
    "id": "75ETGwN7b9bC",
    "outputId": "2f85b306-77ec-4cc4-cb12-1f578bd857e3"
   },
   "outputs": [
    {
     "name": "stdout",
     "output_type": "stream",
     "text": [
      "Sequence(sequence='MVYFTAEEKAAITSLWGKVNVEEAGGKALGRLLIVYPWTQRFFDKFGNLSSASAIMGNPKIKAHGKKVLNSFGDAVENPDNLKGTFAKLSELHCDKLLVDPEDFRLLGNVIVIVLANHFGKEFTPQVQAAWQKMVTGVASALARKYH', tag='sp|Q45XH5|HBG_DUGDU Hemoglobin subunit gamma OS=Dugong dugon OX=29137 GN=HBG PE=2 SV=3')\n",
      "Sequence(sequence='MVHLTADETALVTGLWAKVNVKEYGGEALGRLLVVYPWTQRFFEHFGDLSSASAVMHNPKVKAHGEKVLASFGDGLKHLDDLKGAFAELSALHCEKSHVDPQNFKLLGNMLVCVLSRHLGKEFSPQAQAAYEKVVAGVANALAHKYH', tag='sp|Q45XI7|HBD_DUGDU Hemoglobin subunit delta OS=Dugong dugon OX=29137 GN=HBD PE=2 SV=3')\n",
      "Sequence(sequence='XAEXKSAVTSLWGKVNVEEAGGEALGRLLVVYPWTQRFFDTFGNLXSASAIMGXXXXXXXXXXXXXXXXXXXKNMDNLKNAFAKLSELHCDKLHVDPENFRLLGNVLVIILASHFGKKXXXXXXAAWQKLVSGVANALSHKYH', tag='tr|A0A481WND8|A0A481WND8_HYDGI Hemoglobin subunit epsilon (Fragment) OS=Hydrodamalis gigas OX=63631 GN=HBE PE=3 SV=1')\n",
      "Sequence(sequence='MVHFTAEEKSAVTSLWGKVNVEEAGGEALGRLLVVYPWTQRFFDTFGNLSSASAIMGNPKVKAHGKKVLTSFGDAVKNMDNLKNAFAKLSELHCDKLHVDPENFRLLGNVLVIILASHFGKEFTPDTQAAWQKLVSGVANALSHKYH', tag='tr|A0A481WND9|A0A481WND9_DUGDU Hemoglobin subunit epsilon OS=Dugong dugon OX=29137 GN=HBE PE=3 SV=1')\n",
      "Sequence(sequence='MVHFTAEEKSAVTSLWGKVNVEEAGGEALGRLLVVYPWTQRFFDTFGNLSSASAIMGNPKVKAHGKKVLTSFGDAVKNMDNLKNAFAKLSELHCDKLHVDPENFRLLGNVLVIILASHFGKEFTPDTQAAWQKLVSGVANALSHKYH', tag='tr|A0A481WNH0|A0A481WNH0_HYDGI Hemoglobin subunit epsilon OS=Hydrodamalis gigas OX=63631 GN=HBE PE=3 SV=1')\n",
      "Sequence(sequence='MVYFTAEEKAAXXXXXXKVNVXEAGGTALGRLLIVYPWIQRFFDKFGNLSSASXXXXXPKVKAHGKKVLNSFGDAVKNPDNLKGTFAKLSELHCDXXXXXXXXXXXXXXXXXIVLANHFGKEFTPQVQAAWQKXXXGVASALARKYH', tag='tr|A0A481WPK4|A0A481WPK4_HYDGI Hemoglobin subunit gamma OS=Hydrodamalis gigas OX=63631 GN=HBG PE=3 SV=1')\n",
      "Sequence(sequence='MVHLTADEKALITGLWSKVNVKEYGGEALGRLLVVYPWTQRFFEHFGDLSSASAVMHNSKVQTHSXXXXASXXXGLKHLDNLNSAFAELSELHCDKLHVDPENFRLLGNVLVCVLARHLGKEFSPQAQAAYQKVVAGVANALAHKYH', tag='tr|A0A481WPM8|A0A481WPM8_HYDGI Hemoglobin subunit beta/delta OS=Hydrodamalis gigas OX=63631 GN=HBB PE=3 SV=1')\n",
      "Sequence(sequence='MVYFTAEEKAAITSLWGKVNVEEAGGKALGRLLIVYPWTQRFFDKFGNLSSASAIMGNPKIKAHGKKVLNSFGDAVENPDNLKGTFAKLSELHCDKLLVDPEDFRLLGNVIVIVLANHFGKEFTPQVQAAWQKMVTGVASALARKYH', tag='tr|A0A481WQ07|A0A481WQ07_DUGDU Hemoglobin subunit gamma OS=Dugong dugon OX=29137 GN=HBG PE=3 SV=1')\n",
      "Sequence(sequence='MVYFTAEEKAAITSLWGKVNVEEAGGKALGRLLIVYPWTQRFFDKFGNLSSASAIMGNPKIKAHGKKVLNSFGDAVENPDNLKGTFAKLSELHCDKLLVDPENFRLLGNVIVIVLANHFGKEFTPQVQAAWQKMVTGVASALARKYH', tag='tr|A0A481WQ84|A0A481WQ84_DUGDU Hemoglobin subunit gamma OS=Dugong dugon OX=29137 GN=HBG PE=3 SV=1')\n",
      "Sequence(sequence='MVHLTADETALVTGLWAKVNVKEYGGEALGRLLVVYPWTQRFFEHFGDLSSASAVMHNPKVKAHGEKVLASFGDGLKHLDDLKGAFAELSALHCEKLHVDPQNFKLLGNMLVCVLSRHLGKEFSPQAQAAYEKVVAGVANALAHKYH', tag='tr|A0A481WQB0|A0A481WQB0_DUGDU Hemoglobin subunit beta/delta OS=Dugong dugon OX=29137 GN=HBB PE=3 SV=1')\n",
      "Sequence(sequence='MVYFTAEEKAAITSLWGKVNVEEAGGTALGRLLIVYPWIQRFFDKFGNLSSASAIMGNPKVKAHGKKVLNSFGDAVKNPDNLKGTFAKLSELHCDKLLVDPDNFRLLGNMIVIVLANHFGKEFTPQVQAAWQKMVTGVASALARKYH', tag='tr|A0A481WQZ5|A0A481WQZ5_HYDGI Hemoglobin subunit gamma OS=Hydrodamalis gigas OX=63631 GN=HBG PE=3 SV=1')\n",
      "Sequence(sequence='MVHLTADEKALVTGLWSKVNVKEYGGEALGRLLVVYPWTQRFFEHFGDLSSASAVMHNSKVQTHGEKVLASFGDGLKHLDNLNSAFAELSELHCDKLHVDPENFRLLGNVLVCVLARHLGKEFSPQAQAAYQKVVAGVANALAHKYH', tag='tr|A0A481WR13|A0A481WR13_HYDGI Hemoglobin subunit beta/delta OS=Hydrodamalis gigas OX=63631 GN=HBB PE=3 SV=1')\n"
     ]
    }
   ],
   "source": [
    "# Print the sequences to see what the cluster contains\n",
    "for sequence in sequences:\n",
    "  if any(seq_id in sequence.tag for seq_id in largest_cluster):\n",
    "      print(sequence)"
   ]
  },
  {
   "cell_type": "markdown",
   "id": "j2WRN8Ztcwbn",
   "metadata": {
    "id": "j2WRN8Ztcwbn"
   },
   "source": [
    "**Note**: [Hemoglobin](https://en.wikipedia.org/wiki/Hemoglobin) is a protein containing iron that facilitates the transport of oxygen in red blood cells."
   ]
  },
  {
   "cell_type": "code",
   "execution_count": null,
   "id": "NWRzZQOKdL6_",
   "metadata": {
    "colab": {
     "base_uri": "https://localhost:8080/"
    },
    "id": "NWRzZQOKdL6_",
    "outputId": "d548f2c0-929f-4a7a-9eeb-a3085d904b61"
   },
   "outputs": [
    {
     "name": "stdout",
     "output_type": "stream",
     "text": [
      "Size of the second largest cluster:  7\n",
      "Cluster membership:\n",
      "['Q33401', 'A0A3G2ZP02', 'A0FLH2', 'O09233', 'Q85PI5', 'A0A8E6L4L9', 'A0A8E6NSG8']\n"
     ]
    }
   ],
   "source": [
    "# Get the second largest cluster\n",
    "largest_cluster = sorted(clusters, key=lambda x: len(x))[-2]\n",
    "\n",
    "print(\"Size of the second largest cluster: \", len(largest_cluster))\n",
    "print(\"Cluster membership:\")\n",
    "print(largest_cluster)"
   ]
  },
  {
   "cell_type": "code",
   "execution_count": null,
   "id": "EpJkuzZgdYvE",
   "metadata": {
    "colab": {
     "base_uri": "https://localhost:8080/"
    },
    "id": "EpJkuzZgdYvE",
    "outputId": "6c597053-411d-4865-a161-81061bd6e3fc"
   },
   "outputs": [
    {
     "name": "stdout",
     "output_type": "stream",
     "text": [
      "Sequence(sequence='MTNIRKSHPLIKILNNSFIDLPTPVNISSWWNFGSLLGACLIIQILTGLFLAMHYTSDTLTAFSSVTHICRDVNYGWIIRYLHANGASMFFLCLYAHIGRGIYYGSYLYPETWNIGIVLLLTVMATAFMGYVLPWGQMSFWGATVITNLLSAIPYIGTNLVEWVWGGFSVDKATLTRFFALHFILPFIVTALVMVHLLFLHETGSNNPTGLISDSDKIPFHPYYSVKDLLGLFLLILVLLLLTLFSPDMLGDPDNYTPANPLNTPPHIKPEWYFLFRYAILRSIPNKLGGVLALVLSILILALLPLLHTSKQRSLSFRPLSQCLFWILVADLITLTWIGGQPVEHPYIIIGQLASILYFSIILIFMPIAGLIENHLLKW', tag='sp|Q33401|CYB_DUGDU Cytochrome b OS=Dugong dugon OX=29137 GN=MT-CYB PE=3 SV=1')\n",
      "Sequence(sequence='MTNIRKTHPLIKILNDSFIDLPTPTNISSWWNFGSLLGACLIIQILTGLFLAMHYTSDTSTAFSSVAHICRDVNYGWIIRYLHANGASMFFLCLYAHIGRGIYYGSYLYPETWNIGIVLLLTVMATAFMGYVLPWGQMSFWGATVITNLLSAIPYIGTNLVEWVWGGFSVDKATLTRFFALHFILPFIVTALVAVHLLFLHETGSNNPTGLVSNSDKIPFHPYYSTKDLLGLFLLILVLLLLTLFSPDMLGDPDNYTPANPLSTPPHIKPEWYFLFAYAILRSIPNKLGGVLALILSILILALLPLLHTSKQRSLSFRPLSQCLFWILVADLITLTWIGGQPVEHPYIIIGQLASILYFAIILILMPAAGLIENHLLKW', tag='tr|A0A3G2ZP02|A0A3G2ZP02_HYDGI Cytochrome b OS=Hydrodamalis gigas OX=63631 GN=CYTB PE=3 SV=1')\n",
      "Sequence(sequence='SHPLIKILNNSFIDLPTPVNISSWWNFGSLLGACLIIQILTGLFLAMHYTSDTLTAFSSVTHICRDVNYGWIIRYLHANGASMFFLCLYAHIGRGIYYGSYLYPETWNIGIVLLLTVMATAFMGYVLPWGQ', tag='tr|A0FLH2|A0FLH2_DUGDU Cytochrome b (Fragment) OS=Dugong dugon OX=29137 GN=cytb PE=4 SV=1')\n",
      "Sequence(sequence='MTNIRKTHPLIKILNDSFIDLPTPTNISSWWNFGSLLGACLIIQILTGLFLAMHYTSDTSTAFSSVAHICRDVNYGWIIRYLHANGASMFFLCLYAHIGRGIYYGSYLYPETWNIGIMLLLTVMATAFMGYVLPWGQMSFWGATVITNLLSAIPYIGTNLVEWVWGGFSVDKATLTRFFALHFILPFIVTALVAVHLLFLHETGSNNPTGLVSNSDKIPFHPYYSTKDFLGLFLLILVLLLLTLFSPDMLGDPDNYTPANPLSTPPHIKPEWYFLFAYAILRSIPNKLGGVLALILSILILALLPLLHTSKQRSLSFRPLSQCLFWILVADLITL', tag='tr|O09233|O09233_HYDGI Cytochrome b (Fragment) OS=Hydrodamalis gigas OX=63631 PE=3 SV=1')\n",
      "Sequence(sequence='GATVITNLLSAIPYIGTNLVEWVWGGFSVDKATLTRFFALHFILPFIVTALVMVHLLFLHETGSNNPTGLISDSDKIPFHPYYSVKDLLGLFLLILVLLLLTLFSPDMLGDPDNYTPANPLNTPPHIKPEWYFLFAYAIL', tag='tr|Q85PI5|Q85PI5_DUGDU Cytochrome b (Fragment) OS=Dugong dugon OX=29137 PE=3 SV=1')\n",
      "Sequence(sequence='ILTGLFLAMHYTSDTLTAFSSVTHICRDVNYGWIIRYLHANGASMFFLCLYAHIGRGIYYGSYLYPETWNIGIVLLLTV', tag='tr|A0A8E6L4L9|A0A8E6L4L9_DUGDU Cytochrome b (Fragment) OS=Dugong dugon OX=29137 GN=cytb PE=4 SV=1')\n",
      "Sequence(sequence='QILTGLFLAMHYTSDTLTAFSSVTHICRDVNYGWIIRYLHANGASMFFLCLYAHIGRGIYYGSYLYPETWNIGIVLLLTVM', tag='tr|A0A8E6NSG8|A0A8E6NSG8_DUGDU Cytochrome b (Fragment) OS=Dugong dugon OX=29137 GN=cytb PE=4 SV=1')\n"
     ]
    }
   ],
   "source": [
    "# Print the sequences to see what the cluster contains\n",
    "for sequence in sequences:\n",
    "  if any(seq_id in sequence.tag for seq_id in largest_cluster):\n",
    "      print(sequence)"
   ]
  },
  {
   "cell_type": "markdown",
   "id": "EoLMYMhsd4cc",
   "metadata": {
    "id": "EoLMYMhsd4cc"
   },
   "source": [
    "**Note**: [Cytochrome b](https://en.wikipedia.org/wiki/Cytochrome_b) is a protein found in the membranes of aerobic cells--in eukaryotic mitochondria (inner membrane)."
   ]
  },
  {
   "cell_type": "markdown",
   "id": "_Ch330GDkqWd",
   "metadata": {
    "id": "_Ch330GDkqWd"
   },
   "source": [
    "## ✏️ Exercise\n",
    " The Great Barrier Reef Foundation says that [dugongs are more closely related to elephants than to whales and dolphins](https://www.barrierreef.org/the-reef/animals/dugong-facts). Using what you learned in this tutorial, can you prove it?"
   ]
  },
  {
   "cell_type": "markdown",
   "id": "b9a8691e-7f3d-4c66-97d9-ba9e64f1e7f9",
   "metadata": {
    "id": "b9a8691e-7f3d-4c66-97d9-ba9e64f1e7f9"
   },
   "source": [
    "# Conclusion\n",
    "\n",
    "In this tutorial we introduced 'Omics' data and went over several common techniques in bioinformatics for understanding the relationship between species. These techniques are important for developing and evaluating biological foundation models, necessary for gaining insight from the massive Omics datasets currently being collected.\n",
    "\n",
    "For more bioinformatics tutorials: https://rosalind.info/problems/list-view/"
   ]
  },
  {
   "cell_type": "markdown",
   "id": "01b90510-308b-4983-958b-89f9adf1dd6f",
   "metadata": {
    "id": "01b90510-308b-4983-958b-89f9adf1dd6f"
   },
   "source": [
    "# Citations\n",
    "\n",
    "Many graphics courtesy of the National Human Genome Research Institute: https://www.genome.gov/"
   ]
  },
  {
   "cell_type": "code",
   "execution_count": null,
   "id": "57e1eacb-6c59-4067-bf07-22f66ca24a16",
   "metadata": {
    "id": "57e1eacb-6c59-4067-bf07-22f66ca24a16"
   },
   "outputs": [],
   "source": []
  }
 ],
 "metadata": {
  "colab": {
   "provenance": []
  },
  "kernelspec": {
   "display_name": "Python 3 (ipykernel)",
   "language": "python",
   "name": "python3"
  },
  "language_info": {
   "codemirror_mode": {
    "name": "ipython",
    "version": 3
   },
   "file_extension": ".py",
   "mimetype": "text/x-python",
   "name": "python",
   "nbconvert_exporter": "python",
   "pygments_lexer": "ipython3",
   "version": "3.9.2"
  }
 },
 "nbformat": 4,
 "nbformat_minor": 5
}
